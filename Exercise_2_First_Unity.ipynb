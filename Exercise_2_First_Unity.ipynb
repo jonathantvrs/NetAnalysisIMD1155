{
  "nbformat": 4,
  "nbformat_minor": 0,
  "metadata": {
    "colab": {
      "name": "Exercise 2 - First Unity.ipynb",
      "provenance": [],
      "collapsed_sections": [],
      "include_colab_link": true
    },
    "kernelspec": {
      "name": "python3",
      "display_name": "Python 3"
    },
    "language_info": {
      "name": "python"
    }
  },
  "cells": [
    {
      "cell_type": "markdown",
      "metadata": {
        "id": "view-in-github",
        "colab_type": "text"
      },
      "source": [
        "<a href=\"https://colab.research.google.com/github/jonathantvrs/NetAnalysisIMD1155/blob/main/Exercise_2_First_Unity.ipynb\" target=\"_parent\"><img src=\"https://colab.research.google.com/assets/colab-badge.svg\" alt=\"Open In Colab\"/></a>"
      ]
    },
    {
      "cell_type": "code",
      "metadata": {
        "id": "DUoqNSZIFJ6j",
        "colab": {
          "base_uri": "https://localhost:8080/"
        },
        "outputId": "f85d059a-0a99-403f-fbf0-642636325291"
      },
      "source": [
        "!pip install nxviz"
      ],
      "execution_count": null,
      "outputs": [
        {
          "output_type": "stream",
          "text": [
            "Requirement already satisfied: nxviz in /usr/local/lib/python3.7/dist-packages (0.6.3)\n",
            "Requirement already satisfied: palettable>=3.3.0 in /usr/local/lib/python3.7/dist-packages (from nxviz) (3.3.0)\n",
            "Requirement already satisfied: networkx>=2.5 in /usr/local/lib/python3.7/dist-packages (from nxviz) (2.5.1)\n",
            "Requirement already satisfied: pandas>=1.2.0 in /usr/local/lib/python3.7/dist-packages (from nxviz) (1.3.0)\n",
            "Requirement already satisfied: matplotlib>=3.3.3 in /usr/local/lib/python3.7/dist-packages (from nxviz) (3.4.2)\n",
            "Requirement already satisfied: numpy>=1.19.4 in /usr/local/lib/python3.7/dist-packages (from nxviz) (1.19.5)\n",
            "Requirement already satisfied: seaborn>=0.11.1 in /usr/local/lib/python3.7/dist-packages (from nxviz) (0.11.1)\n",
            "Requirement already satisfied: more-itertools>=8.6.0 in /usr/local/lib/python3.7/dist-packages (from nxviz) (8.8.0)\n",
            "Requirement already satisfied: pyparsing>=2.2.1 in /usr/local/lib/python3.7/dist-packages (from matplotlib>=3.3.3->nxviz) (2.4.7)\n",
            "Requirement already satisfied: pillow>=6.2.0 in /usr/local/lib/python3.7/dist-packages (from matplotlib>=3.3.3->nxviz) (7.1.2)\n",
            "Requirement already satisfied: python-dateutil>=2.7 in /usr/local/lib/python3.7/dist-packages (from matplotlib>=3.3.3->nxviz) (2.8.1)\n",
            "Requirement already satisfied: cycler>=0.10 in /usr/local/lib/python3.7/dist-packages (from matplotlib>=3.3.3->nxviz) (0.10.0)\n",
            "Requirement already satisfied: kiwisolver>=1.0.1 in /usr/local/lib/python3.7/dist-packages (from matplotlib>=3.3.3->nxviz) (1.3.1)\n",
            "Requirement already satisfied: six in /usr/local/lib/python3.7/dist-packages (from cycler>=0.10->matplotlib>=3.3.3->nxviz) (1.15.0)\n",
            "Requirement already satisfied: decorator<5,>=4.3 in /usr/local/lib/python3.7/dist-packages (from networkx>=2.5->nxviz) (4.4.2)\n",
            "Requirement already satisfied: pytz>=2017.3 in /usr/local/lib/python3.7/dist-packages (from pandas>=1.2.0->nxviz) (2018.9)\n",
            "Requirement already satisfied: scipy>=1.0 in /usr/local/lib/python3.7/dist-packages (from seaborn>=0.11.1->nxviz) (1.4.1)\n"
          ],
          "name": "stdout"
        }
      ]
    },
    {
      "cell_type": "code",
      "metadata": {
        "id": "vPnW354_FH1P"
      },
      "source": [
        "import networkx as nx\n",
        "import matplotlib.pyplot as plt\n",
        "import nxviz"
      ],
      "execution_count": null,
      "outputs": []
    },
    {
      "cell_type": "markdown",
      "metadata": {
        "id": "4PDJ1weA_W5Q"
      },
      "source": [
        "# 1. Dataset: Brazil air traffic network\n"
      ]
    },
    {
      "cell_type": "code",
      "metadata": {
        "colab": {
          "base_uri": "https://localhost:8080/"
        },
        "id": "iqE6aU8GEXnk",
        "outputId": "4d903dfd-5a7e-47db-9d1a-e72b16ef9495"
      },
      "source": [
        "# download the dataset \n",
        "!gdown https://drive.google.com/uc?id=1wzdGuCYwkiooD2cNCDzC2_NHTdlxeaC-"
      ],
      "execution_count": null,
      "outputs": [
        {
          "output_type": "stream",
          "text": [
            "Downloading...\n",
            "From: https://drive.google.com/uc?id=1wzdGuCYwkiooD2cNCDzC2_NHTdlxeaC-\n",
            "To: /content/air_traffic.graphml\n",
            "\r  0% 0.00/1.02M [00:00<?, ?B/s]\r100% 1.02M/1.02M [00:00<00:00, 58.2MB/s]\n"
          ],
          "name": "stdout"
        }
      ]
    },
    {
      "cell_type": "code",
      "metadata": {
        "id": "MlXFNUAT_W5Q"
      },
      "source": [
        "G = nx.read_graphml('air_traffic.graphml')"
      ],
      "execution_count": null,
      "outputs": []
    },
    {
      "cell_type": "markdown",
      "metadata": {
        "id": "_NRljisfqjbk"
      },
      "source": [
        "### Filtering Nodes by Country"
      ]
    },
    {
      "cell_type": "code",
      "metadata": {
        "id": "tKf6lbUalzb7"
      },
      "source": [
        "brazilnodes = []\n",
        "for node, data in G.nodes(data=True):\n",
        "  if (data['country']=='BRASIL'):\n",
        "    brazilnodes.append(node)\n",
        "\n",
        "BrGraph = nx.subgraph(G, brazilnodes)"
      ],
      "execution_count": null,
      "outputs": []
    },
    {
      "cell_type": "code",
      "metadata": {
        "id": "vspxbitz_W5R",
        "colab": {
          "base_uri": "https://localhost:8080/"
        },
        "outputId": "910bc13a-8ee7-4305-8c98-65263e1f75ed"
      },
      "source": [
        "G.nodes"
      ],
      "execution_count": null,
      "outputs": [
        {
          "output_type": "execute_result",
          "data": {
            "text/plain": [
              "NodeView(('KDFW', 'KJFK', 'KMIA', 'SBCF', 'SBGL', 'SBGR', 'SGAS', 'SSUM', 'SUMU', 'SNBG', 'KMCO', 'SSBG', 'SBCV', 'SBLP', 'SBSV', 'SNGI', 'SNTF', 'SBAR', 'SBMO', 'SBPL', 'SNBR', 'SNVR', 'CYYZ', 'DTTA', 'UUEE', 'GOOY', 'LFPG', 'SBKP', 'SOCA', 'SCEL', 'SBBV', 'SVPR', 'MMMX', 'MMUN', 'SPIM', 'SAEZ', 'SBFL', 'LEMD', 'SABE', 'SACO', 'SBPA', 'SAAR', 'SKBO', 'LIMC', 'LIRF', 'EGKK', '1AON', 'SBAA', 'SBAS', 'SBAU', 'SBBE', 'SBBH', 'SBBR', 'SBCG', 'SBCH', 'SBCJ', 'SBCT', 'SBCY', 'SBDN', 'SBEG', 'SBFC', 'SBFZ', 'SBGO', 'SBIL', 'SBIZ', 'SBJP', 'SBJV', 'SBLO', 'SBMA', 'SBMC', 'SBMQ', 'SBNF', 'SBNT', 'SBPJ', 'SBPN', 'SBPS', 'SBPV', 'SBRF', 'SBRJ', 'SBRP', 'SBSJ', 'SBSL', 'SBSM', 'SBSP', 'SBSR', 'SBTC', 'SBTE', 'SBTU', 'SBUG', 'SBUL', 'SBUR', 'SBVG', 'SBVH', 'SBVT', 'SDAG', 'SNDC', 'SNDM', 'SNTO', 'SSCK', 'SSEP', 'SSER', 'SSHZ', 'SSLT', 'SSPB', 'SSUW', 'SSZR', 'SWFX', 'SWGI', 'SWJI', 'SWKK', 'SWKN', 'SWNQ', 'SWPQ', 'SBBI', 'SBCX', 'SBFI', 'SBSN', 'SDAN', 'SDCO', 'SDUB', 'SNFE', 'SWGN', 'LFBO', 'MYNN', 'SBCA', 'SBCM', 'SBCR', 'SBME', 'SBML', 'SBPK', 'KMSY', 'SBAQ', 'SDVG', 'EDDV', 'EDDT', 'SBBT', 'SNRU', 'MDSD', 'SBMN', 'EHAM', 'LEAS', 'LETO', 'N/I', 'TNCC', 'KYIP', 'MPTO', 'KEWR', 'KIAH', 'MUHA', 'KATL', 'EDDF', 'FNLU', 'SEGU', 'SEQU', 'KMEM', 'SVVA', 'SVMI', 'SBBU', 'SBMG', 'SSTD', 'SBTD', 'KLAX', 'RJAA', 'SBRG', 'RKSS', 'SGES', 'KSAT', 'KMAI', 'SAME', 'SLVR', 'SNOX', 'SNTI', 'SBHT', 'SBIH', 'SBMD', 'SBFN', 'SBIP', 'SBJF', 'SBKG', 'SBMK', 'SBPB', 'SBQV', 'SBTB', 'SNGV', 'SNQY', 'SWPJ', 'SBJU', 'SBMS', 'TTPP', '6ASO', 'SBAT', 'SBEK', 'SBOI', 'SNDB', 'SNMD', 'SNMZ', 'SNNG', 'SNSH', 'SNVS', 'SWJH', 'SWJN', 'SWJU', 'SWMP', 'SWPI', 'SWRP', 'SWSI', 'SWUQ', 'SBTS', 'SWCP', 'SWTS', 'SWTU', 'SBJC', 'SNLA', 'SWKC', 'SNSM', 'SWLV', 'SMPB', 'SNFX', 'SWMW', 'SWVR', 'SBCP', 'SBNM', 'SBPP', 'SNMU', 'SSDO', 'SWLC', 'SBBQ', 'SBMT', 'SDFR', 'SULS', 'SBCZ', 'SBRB', 'SBTF', 'SBTK', 'SBTT', 'SBUA', 'SWBC', 'SWBR', 'SWCA', 'SWEI', 'SWHT', 'SWII', 'SWJP', 'SWKO', 'SWLB', 'SWNA', 'SWOB', 'SWTP', 'SWNO', 'SBIC', 'SWMK', 'SBMY', 'SWSQ', 'SWUY', 'SBYA', 'SWYN', 'SBLJ', 'SBPF', 'SURV', 'GVAC', '2NHT', 'SBCB', 'SNVB', 'SBAN', 'SBSC', 'FAJS', 'SMJP', 'LSZH', 'LPPT', 'SDZC', 'FQMA', 'SAZS', 'EHWO', 'LPFR', 'DGAA', 'KSHR', 'LPPR', 'LEPA', 'MDPC', 'TNCA', 'TNCM', 'SSVI', 'SNIG', 'SNOB', 'SNQD', 'SNTS', 'SNAB', 'SNQG', 'SNKK', 'SNRS', 'SNQX', 'SDUN', 'SNPD', 'SBCC', 'SBPC', 'SBAV', 'SDOU', 'SBTL', 'SBGM', 'SWCQ', 'SWFJ', 'KORD', 'EGLL', 'EKCH', 'KLAS', 'MMAA', 'RJNN', 'SLLP', 'SUPE', 'SKCL', 'GCLP', 'EDDM', 'PANC', 'KADW', 'SVMG', 'MUCM', 'SPSO', 'KFLL', 'KOSC', 'KPBI', 'EBBB', 'LEBL', 'SELT', 'SARO', 'SBMM', 'SSPK', 'CYUL', 'KIAD', 'SARI', 'SEQM', 'EDFH', 'SKBQ', 'KMCN', 'MTPP', 'SBAC', 'SBAE', 'SBCN', 'SBDB', 'SBDO', 'SBGV', 'SBJE', 'SBRD', 'SBSG', 'SBSI', 'SBSO', 'SBVC', 'SBZM', 'KGUS', 'MGGT', 'SBTG', 'SBJA', 'TJSJ', 'EBBR', 'KROW', 'MNMG', 'SPJC', 'EDHI', 'LPAR', 'SLCB', 'ELLX', 'KAEX', 'OMAA', 'VOHS', 'VHHH', 'DNMM', 'FKKD', 'HAAB', 'EBLG', 'FOOL', 'SVSO', 'SVBM', 'TJBQ', 'MROC', 'LATI', 'UAAA', 'KBFI', 'KSTL', 'RKSI', 'SKLT', 'SCCF', 'SCDA', 'YSSY', 'SDSC', 'EGSS', 'GVNP', 'SKRG', 'SDMC', 'SBBW', 'SBJD', 'SDIM', 'SDTK', 'SJHG', 'SNGA', 'SNHS', 'SNMA', 'SNRJ', 'SNYA', 'SSCN', 'SSOU', 'SSTE', 'SWHP', 'SDWQ', 'SBUY', 'SBPG', 'ZGSZ', 'EDDK', 'HKJK', 'VCBI', 'VMMC', 'UCFM', 'FYWH', 'GUCY', 'OEJN', 'OTHH', 'EHBK', 'LEZG', 'SDNM', 'SILC', 'SYCJ', 'KBOS', 'ZBAA', 'LMML', 'LKMT', 'SYEC', 'GOBD', 'LTFM', 'LTBA', 'CYLW', 'KGTF', 'OMDB', 'DIAP', 'HSSS', 'OBBI', 'VOMM', 'BIKF', 'SBFE', 'SWNB', 'SNIC', 'SNAV', 'SNDH', 'SNIP', 'EFHK', 'ESGG', 'EGNX', 'LEZL', 'UBBB', 'ZSPD', 'CYOW', 'DAAG', 'GABS', 'GMME', 'MMTO', 'UUWW', 'SBAX', 'SBJI', 'SBLE', 'SBUF', 'SNDV', 'SSKW', 'SSZW', 'MSLP', 'UKLL', 'KDTW', 'SANR', 'DXXX', 'SAWC', 'GQNN', 'TFFF', 'OMDW', 'SANT', 'SVBI', 'LTBJ', 'MMMA', 'MMMY', 'SVBC', 'MMTY', 'MMGL', 'SCFA', 'SARE', 'SCAR', 'SCSE', 'LFSB', 'EPWA', 'MMMD', 'CYHN', 'KFSO', 'LFBT', 'KVCV', 'SWNK', 'GCRR', 'LGAV', 'GMMN', 'TBPB', 'FAOR', 'SAZN', 'KBGR', 'MMQT', 'OOMS', 'OTBD', 'CYYL', 'GMAD', 'LFOK', 'LEMG', 'UWLW', 'EDDP', 'EDNY', 'LIPN', 'MMPB', 'FCPP', 'SAZE', 'TFFR', 'SDAM', 'KSEA', 'RCTP', 'RJCC', 'KELP', 'KMDZ', 'KTUS', 'KGSO', 'SVJC', 'SJQK', 'SWEU', 'SJLU', 'SWBV', 'SWPD', 'SWQR', 'SBCD', 'SJRG', 'SSJA', 'SBGU', 'SIXE', 'SBTR', 'SSIJ', 'SNYV', 'SNWR', 'SNCI', 'SNBS', 'SNPC', 'SNNC', 'SISO', 'SNTP', 'SJTC', 'SDLU', 'SBST', 'SWBI', 'SDCG', 'SSBE', 'SDOW', 'SNKE', 'KPAE', 'SNDT', 'SNJR', 'SWRD', 'SBGP', 'SBAG', 'SBBZ', 'SBJR', 'SKMD', 'SIZX', 'KJAX', 'EGHL', 'KMZJ', 'HECA', 'KGYR', 'LICC', 'MKJP', 'VRMM', 'WIII', 'LICJ', 'NZCH', 'YBCS', 'KTPA', 'SIRI', 'GCTS', 'LROP', 'SASA', 'HTKJ', 'NTAA', 'SCIP', 'VDSR', 'VIDP', 'SASO', 'LOWW', 'KCLT', 'SBCO', 'SNJD', 'GCXO', 'KCWF', 'KSFO', 'KHOU', 'MUCU', 'EGPK', 'EGYP', 'KSUU', 'KLIT', 'EKBI', 'FVHA', 'HSMR', 'DABT', 'EDDS', 'EGSH', 'MDLR', 'TTCP', 'SEMT', 'SCIE', 'SCTC', 'MSSS', 'LTAI', 'LTFJ', 'KHSV', 'SVMC', 'EINN', 'FACT', 'OERK', 'GMFK', 'LHBP', 'LZIB', 'SBLN', 'SSFB', 'CYQB', 'WSSS', 'SNMH', 'SWNS', 'SWGP', 'SBCI', 'DNAA', 'ETNL', 'KMDT', 'LFML', 'USCC', 'ZBTJ', 'CYVR', 'KAFW', 'KAUS', 'KDAL', 'KPHL', 'LLBG', 'KBNA', 'MUSC', 'KRFD', 'GLCP', 'SJLM', 'SBBG', 'SPLP', 'KRME', 'EGTE', 'LFLC', 'SBYS', 'SNBA', 'SNSW', 'SWDE', 'SWHG', 'SWIQ', 'KIND', 'LFRT', 'EDDR', 'SBMH', 'SBAF', 'SNGR', 'SNAT', 'SNCB', 'SWDM', 'SNRB', 'SNPG', 'SWXM', 'SDBK', 'SSCR', 'SWUI', 'SWPF', 'RKPK', 'GMMX', 'KLCH', 'SNDR', 'SSLS', 'LFPO', 'SBPM', 'SSPG', 'SNUI', 'SBAM', 'SBLS', 'MMTJ', 'EDDL', 'LIMJ', 'EBCI', 'OJAQ', 'UHPP', 'LTAE', 'KAMA', 'SBPO', 'KMLB', 'LEVC', 'EGCN', 'KLCK', 'SADP', 'KVQQ', 'SPQU', 'LPLA', 'SCCI', 'CYMX', 'SAAV', 'SNJN', 'SNMK', 'SNAR', 'SNCT', 'SNJM', 'SNOS', 'SNPJ', 'SNUH', 'SNVC', 'SNZA', 'SNGX', 'SIMK', 'SSCP', 'SSCT', 'SSGY', 'SSKM', 'SSOG', 'SSPI', 'SSUV', 'SSVL', 'SSSB', 'LPPD', 'MREC', 'LIMF', 'LFBD', 'EGGW', 'SBTV', 'SKCG', 'KBHM', 'SAZM', 'EGMH', 'KILN', 'SCTE', 'SPQT', 'TXKF', 'SSOE', 'SNEB', 'DBBB', 'FLLS', 'SSTL', 'HLMS', 'ESSA', 'YLIS', 'SJGU', 'SWCB', 'SDOV', 'SWVC', 'SJVO', 'SNPP', 'SWWA', 'FPST', 'VOBL', 'LFPB', 'MMTP', 'SDRS', 'LIPO', 'MYGF', 'UIUU', 'UMMS', 'UNNT', 'KONT', 'LFQQ', 'SAMA', 'SAMM', 'SAVT', 'EGHH', 'EHRD', 'SSCL', 'MUHG', 'FKYS', 'MZBZ', 'GVPR', 'FCBB', 'FALE', 'KSFB', 'SSRS', 'SWZM', 'SNBX', 'SWWU', 'SNMJ', 'SWXV', 'SNBM', 'SWYK', 'SIQE', 'SNQW', 'SSNC', 'SSND', 'SWEK', 'SWNH', 'SWUA', 'SJQP', 'SSAC', 'SBIT', 'DRRN', 'OMSJ', 'SBGS', 'EGVN', 'KMCI', 'LEST', 'FZQA', 'LKPR', 'URMM', 'URRR', 'VAAH', 'SNUU', 'SNIU', 'OPLA', 'LPAZ', 'RJTT', 'LFTW', 'EGBB', 'SVVG', 'DNPO', 'LBSF', 'SWEE', 'LSGG', 'MMSD', 'KEWK', 'UTTT', 'CYQX', 'ULLI', 'LFLX', 'ZSNJ', 'KMSP', 'CYYY', 'LFGP', 'SNYB', 'SBPI', 'WSSL', 'SWFN', 'GLRB', 'SSBN', 'KTUL', 'SNGQ', 'SNXL', 'KBDL', 'SIFV', 'SNNT', 'UUUU', 'MPHO', 'SPTN', 'KFXE', 'SDTF', 'ENGM', 'EDDH', 'SWOW', 'SWWD', 'SJUR', 'SNUO', 'SNBV', 'SWJW', 'SJDB', 'FAWB', 'LRSB', 'EGCC', 'LSZM', 'KNZC', 'FIMP', 'KLCQ', 'SNPY', 'SPCL', 'LCLK', 'FAUP', 'SWAE', 'SWBU', 'SJCW', 'SWPC', 'SSSC', 'LFCF', 'SNAP', 'LTAC', 'LIPX', 'LIBR', 'SWFE', 'SWCI', 'SNPV', 'SWJV', 'SIGP', 'SNAX', 'UKBB', 'EPKK', 'LESA', 'LIRA', 'FAWK', 'SIBU', 'SNUC', 'SNJO', 'SNKB', 'SSCC', 'KPHX', 'LFMN', 'RJBB', 'SCTI', 'WMSA', 'RPMM', 'AGGH', 'PHNL', 'FGSL', 'SNBI', 'SNMX', 'SNBW', 'SNCC', 'NZAA', 'SDAA', 'LFRD', 'SSBB', 'SNAH', 'SNBU', 'SNQM', 'SNJB', 'MHSP', 'SPZO', 'OSDI', 'LIRN', 'EDDB', 'SAMQ', 'EBOS', 'KRDU', 'SWCD', 'SJTS', 'SSNH', 'SUSO', 'SLPS', 'VABB', 'VTBD', 'GVFM', 'SDDM', 'SDJA', 'SNKI', 'SJKB', 'SJNP', 'SSNM', 'LTAG', 'SNVV', 'SDLK', 'SWBZ', 'SIKC', 'TAPA', 'SDVE', 'SDPA', 'SNPX', 'SNUB', 'FSSS', 'KOKC', 'GBYD', 'SWDB', 'SWYY', 'MMPR', 'ENBR', 'UWUU', 'LBBG', 'CYYT', 'RCKH', 'SILJ', 'SNML', 'SNXW', 'SNJK', 'SDBB', 'ZSSS', 'LFMP', 'DNKN', 'KRSW', 'KADS', 'SSAB', 'SAOU', 'LFBF', 'KCVG', 'LFRB', 'MHLM', 'ESNQ', 'SVMT', 'SNNU', 'SNZR', 'SNFO', 'SWLF', 'SNXB', 'SABG', 'SEGS', 'OISS', 'WIHH', 'YPPH', 'ZSQD', 'ZSHC', 'ZBHH', 'MMVA', 'UAKK', 'ZGGG', 'HKMO', 'OAKB', 'SPJL', 'KLRD', 'KSBD', 'SCAT', 'SDZG', 'SNWS', 'SWBE', 'SNSG', 'SSSK', 'SWRF', 'EIDW', 'OKBK', 'LGAT', 'SANU', 'SWBG', 'SWPY', 'KIWA', 'MKJS', 'WADD', 'ZSAM', 'USSS', 'FYWB', 'KIAB', 'ZSJN', 'KAUH', 'SNCX', 'KHSA', 'LETL', 'KBKV', 'CYLU', 'KDEN', 'KRIC', 'SAVC', 'CYHM', 'KBLV', 'SSAE', 'KOPF', 'LPFU', 'SVCP', 'DNYO', 'KSGF', 'EGPF', 'CYYC', 'SBER', 'KRIV', 'LFMT', 'KBWI', 'KDOV', 'KWRI', 'KCHS', 'SWJQ', 'MWCR', 'SNDQ', 'LFRG', 'LFPZ', 'KMEI', 'LSGL', 'GQNO', 'FWKI', 'FKKB', 'LEVT', 'EVRA', 'KDHN', 'EGDX', 'KPDX', 'CYWG', 'EGNT', 'KGWO', 'EGNL', 'EGBP', 'TKPK', 'SAWH', 'HKRE', 'LIPZ', 'KARG', 'SCIQ', 'HUEN', 'VGZR', 'MRSJ', 'CYXX', 'KGYY', 'SAIG', 'SLSU', 'FALA', 'KCOE', 'UHHH', 'SKPE', 'WSAP', 'FASU', 'KNKX', 'SNLO', 'FZAA', 'KHDO'))"
            ]
          },
          "metadata": {
            "tags": []
          },
          "execution_count": 7
        }
      ]
    },
    {
      "cell_type": "code",
      "metadata": {
        "colab": {
          "base_uri": "https://localhost:8080/"
        },
        "id": "eDMS4Z75mrNH",
        "outputId": "14adeb28-189f-4e0e-f8ad-68b6edab8460"
      },
      "source": [
        "BrGraph.nodes"
      ],
      "execution_count": null,
      "outputs": [
        {
          "output_type": "execute_result",
          "data": {
            "text/plain": [
              "NodeView(('SBMK', 'SNJB', 'SNPJ', 'SBJE', 'SJGU', 'SBFZ', 'SDAG', 'SNMX', 'SNOB', 'SWEK', 'SWWD', 'SBOI', 'SSJA', 'SBBW', 'SDBB', 'SBCT', 'SBDO', 'SBMG', 'SSOG', 'SDNM', 'SISO', 'SDOU', 'SBGP', 'SWUA', 'SBNM', 'SDDM', 'SBSJ', 'SNQW', 'SBBG', 'SNFO', 'SWMK', 'SSLS', 'SBKG', 'SNQD', '2NHT', 'SBAG', 'SSCC', 'SSPG', 'SWFX', 'SIZX', 'SSER', 'SSOU', 'SBCM', 'SNKB', 'SNYA', 'SWEI', 'SWTU', 'SBSO', 'SBBT', 'SBFN', 'SDWQ', 'SNDB', 'SBTL', 'SBAQ', 'SBIP', 'SBCJ', 'SBKP', 'SBMD', 'SSUW', 'SBLJ', 'SBYA', 'SDIM', 'SNDC', 'SBMY', 'SBJV', 'SBJP', 'SBUA', 'SWRD', 'SBVG', 'SBCZ', 'SBPJ', 'SWNA', 'SBTR', 'SBAV', 'SBGS', 'SNIC', 'SSGY', 'SNPV', 'SWPJ', 'SWXM', 'SBRG', 'SWWU', 'SWPQ', 'SWTS', 'SBIC', 'SBCA', 'SWJP', 'SBTG', 'SWJI', 'SWQR', 'SBPO', 'SNBM', 'SSNH', 'SBBH', 'SDLK', 'SNML', 'SNBW', 'SNCI', 'SNUU', 'SBAA', 'SIQE', 'SBTK', 'SNPX', 'SWJQ', 'SBIT', 'SSSC', 'SWCP', 'SNPG', 'SNMU', 'SSZR', 'SNRJ', 'SBCF', 'SJVO', 'SBGR', 'SBTD', 'SWMW', 'SBUF', 'SNIG', 'SBTU', 'SBMM', 'SWBR', 'SBPN', 'SSSB', 'SNFX', 'SBSL', 'SBCC', 'SBCN', 'SNXW', 'SBCV', 'SBAM', 'SDJA', 'SWOB', 'SBSG', 'SNRB', 'SWCQ', 'SNMD', 'SBPS', 'SBFE', 'SIFV', 'SBRP', 'SBST', 'SWPC', 'SSND', 'SBJI', 'SNGR', 'SNGV', 'SBAX', 'SBCG', 'SNQX', 'SWKO', 'SJRG', 'SDOV', 'SWJU', 'SBEK', 'SWVC', 'SBJU', 'SBFC', 'SBAT', 'SSBB', 'SNLO', 'SNBV', 'SBRJ', 'SWHG', 'SSRS', 'SBAU', 'SBMA', 'SNVC', 'SBTC', 'SSZW', 'SBPB', 'SBSN', 'SWFJ', 'SBJF', 'SNSW', 'SSPI', 'SBAE', 'SWTP', 'SBCR', 'SBIZ', 'SWFE', 'SDSC', 'SBLE', 'SSKM', 'SSCR', 'SJLM', 'SILJ', 'SDUB', 'SSVL', 'SWGN', 'SNSH', 'SBVT', 'SNAV', 'SBPA', 'SNMK', 'SSLT', 'SBUL', 'SNVB', 'SNXB', 'SWCB', 'SWXV', 'SSDO', 'SBVH', 'SBUY', 'SWZM', 'SWPY', 'SWCI', 'SBTE', 'SNRU', 'SSUM', 'SNZA', 'SNCX', 'SDLU', 'SBAR', 'SWBC', 'SNSG', 'SBNT', 'SBPL', 'SDTK', 'SBHT', 'SDUN', 'SBCP', 'SNBU', 'SNDT', 'SNVR', 'SWPF', 'SNNT', 'SWHT', 'SDAM', 'SBVC', 'SWKK', 'SBYS', 'SDVG', 'SNJO', 'SBCO', 'SBBI', 'SNFE', 'SJUR', 'SBPC', 'SNMJ', 'SBIL', 'SBRF', 'SIRI', 'SNKI', 'SNEB', 'SWNS', 'SWUI', 'SSCT', 'SSAB', 'SNKE', 'SBGV', 'SSUV', 'SNSM', 'SNKK', 'SWLV', 'SWRF', 'SJTC', 'SDVE', 'SWLC', 'SNIU', 'SBSR', 'SNUC', 'SNGX', 'SNMH', 'SNAT', 'SNCT', 'SBMN', 'SBSM', 'SBMC', 'SNBI', 'SWWA', 'SJQP', 'SBTB', 'SDBK', 'SSCP', 'SNYB', 'SNTF', 'SNVV', 'SBME', 'SNWS', 'SSEP', 'SNNG', 'SBGO', 'SBSC', 'SBPK', 'SSFB', 'SNBA', 'SBMT', 'SNUO', 'SBJC', 'SBAC', 'SBTS', 'SWUY', 'SDMC', 'SBMH', 'SBCX', 'SSIJ', 'SNGI', 'SNBS', 'SNMA', 'SJNP', 'SWBU', 'SNAB', 'SNTI', 'SBBU', 'SNJR', 'SBSI', 'SIXE', 'SBUR', 'SNHS', 'SIMK', 'SBLN', 'SNVS', 'SNCC', 'SWJW', 'SWEE', 'SBLS', 'SIKC', 'SNTO', 'SWDE', 'SNRS', 'SWNQ', 'SNWR', 'SSPB', 'SIBU', 'SWGP', 'SNTP', 'SNDR', 'SWJN', 'SBGU', 'SSCK', 'SBSP', 'SNTS', 'SSCL', 'SWYY', 'SBUG', 'SWBI', 'SJCW', 'SNBX', 'SBPI', 'SBMS', 'SSAC', 'SNOS', 'SBLO', 'SDAN', 'SBSV', 'SNBR', 'SWHP', '6ASO', 'SBIH', 'SBFL', 'SNGQ', 'SNUI', 'SNDQ', 'SWYN', 'SBRB', 'SNAH', 'SNCB', 'SWSI', 'SWBG', 'SBPV', 'SBGM', 'SBCI', 'SBBZ', 'SBLP', 'SWNK', 'SBPF', 'SWJV', 'SNQG', 'SNQY', 'SDTF', 'SWBZ', 'SWNB', 'SSNM', 'SWCD', 'SBPG', 'SWLB', 'SJQK', 'SWBE', 'SBAF', 'SNYV', 'SBBV', 'SWNO', 'SSBG', 'SWDM', 'SNIP', 'SNBG', 'SBAN', 'SSSK', 'SWAE', '1AON', 'SNDV', 'SBJD', 'SWOW', 'SWKC', 'SSKW', 'SJTS', 'SNAR', 'SJHG', 'SJDB', 'SBMQ', 'SWEU', 'SNGA', 'SBER', 'SNPC', 'SBTV', 'SNAX', 'SILC', 'SDZG', 'SNMZ', 'SWRP', 'SBAS', 'SWMP', 'SBTF', 'SWNH', 'SBTT', 'SWCA', 'SBPP', 'SBMO', 'SSTE', 'SSOE', 'SBJA', 'SSHZ', 'SWKN', 'SSPK', 'SIGP', 'SWLF', 'SBCY', 'SNAP', 'SWBV', 'SBDN', 'SBML', 'SBCD', 'SNQM', 'SNLA', 'SSVI', 'SDFR', 'SWFN', 'SWDB', 'SBBQ', 'SDCG', 'SWUQ', 'SSNC', 'SBDB', 'SBGL', 'SBZM', 'SNDH', 'SSBN', 'SJKB', 'SNUB', 'SBPM', 'SSCN', 'SDZC', 'SWII', 'SDPA', 'SDAA', 'SNUH', 'SNJD', 'SWPI', 'SNNC', 'SDRS', 'SDOW', 'SBEG', 'SWJH', 'SSTD', 'SSTL', 'SNZR', 'SNJM', 'SWGI', 'SNPY', 'SNXL', 'SNPP', 'SWIQ', 'SNJK', 'SNPD', 'SNNU', 'SWVR', 'SJLU', 'SDCO', 'SNJN', 'SBJR', 'SBBR', 'SWSQ', 'SBCB', 'SSBE', 'SNOX', 'SWYK', 'SWPD', 'SBFI', 'SBCH', 'SBQV', 'SBRD', 'SBNF', 'SBBE', 'SNDM', 'SSAE'))"
            ]
          },
          "metadata": {
            "tags": []
          },
          "execution_count": 13
        }
      ]
    },
    {
      "cell_type": "code",
      "metadata": {
        "id": "sWlK8-5H_W5R",
        "colab": {
          "base_uri": "https://localhost:8080/"
        },
        "outputId": "3c8d9923-20cf-40c0-a971-cdbfe5590546"
      },
      "source": [
        "G.nodes['TKPK']"
      ],
      "execution_count": null,
      "outputs": [
        {
          "output_type": "execute_result",
          "data": {
            "text/plain": [
              "{'country': 'SÃO CRISTÓVÃO E NÉVIS',\n",
              " 'latitude': 17.311199188232422,\n",
              " 'longitude': -62.71870040893555,\n",
              " 'name': 'BASSETERRE, SAINT KITTS'}"
            ]
          },
          "metadata": {
            "tags": []
          },
          "execution_count": 8
        }
      ]
    },
    {
      "cell_type": "code",
      "metadata": {
        "colab": {
          "base_uri": "https://localhost:8080/",
          "height": 35
        },
        "id": "uii7gXYEgl80",
        "outputId": "f3efa6d4-ea76-4372-93c3-faa1a75ae46d"
      },
      "source": [
        "G.nodes['FALA']['name']"
      ],
      "execution_count": null,
      "outputs": [
        {
          "output_type": "execute_result",
          "data": {
            "application/vnd.google.colaboratory.intrinsic+json": {
              "type": "string"
            },
            "text/plain": [
              "'LANSERIA'"
            ]
          },
          "metadata": {
            "tags": []
          },
          "execution_count": 9
        }
      ]
    },
    {
      "cell_type": "code",
      "metadata": {
        "id": "yupMfKr7kfhe",
        "colab": {
          "base_uri": "https://localhost:8080/"
        },
        "outputId": "333f1583-e45c-4efd-c8c3-a9364b2a3a3f"
      },
      "source": [
        "BrGraph.nodes['SBMK']"
      ],
      "execution_count": 15,
      "outputs": [
        {
          "output_type": "execute_result",
          "data": {
            "text/plain": [
              "{'country': 'BRASIL',\n",
              " 'latitude': -16.706111,\n",
              " 'longitude': -43.821944,\n",
              " 'name': 'MONTES CLAROS'}"
            ]
          },
          "metadata": {
            "tags": []
          },
          "execution_count": 15
        }
      ]
    },
    {
      "cell_type": "code",
      "metadata": {
        "colab": {
          "base_uri": "https://localhost:8080/",
          "height": 35
        },
        "id": "BRVZL7LJq_II",
        "outputId": "fc81235a-de65-4a9f-e788-f0ca96f0c8e5"
      },
      "source": [
        "BrGraph.nodes['SBCT']['name']"
      ],
      "execution_count": 17,
      "outputs": [
        {
          "output_type": "execute_result",
          "data": {
            "application/vnd.google.colaboratory.intrinsic+json": {
              "type": "string"
            },
            "text/plain": [
              "'SÃO JOSÉ DOS PINHAIS'"
            ]
          },
          "metadata": {
            "tags": []
          },
          "execution_count": 17
        }
      ]
    },
    {
      "cell_type": "markdown",
      "metadata": {
        "id": "5-9zfvb8GZNh"
      },
      "source": [
        "It is possible to note the number of nodes and edges."
      ]
    },
    {
      "cell_type": "code",
      "metadata": {
        "colab": {
          "base_uri": "https://localhost:8080/"
        },
        "id": "4zQcUgK5GQgC",
        "outputId": "2a822a88-4b97-43c0-badb-6e40e5d70345"
      },
      "source": [
        "G.number_of_nodes()"
      ],
      "execution_count": null,
      "outputs": [
        {
          "output_type": "execute_result",
          "data": {
            "text/plain": [
              "1082"
            ]
          },
          "metadata": {
            "tags": []
          },
          "execution_count": 10
        }
      ]
    },
    {
      "cell_type": "code",
      "metadata": {
        "colab": {
          "base_uri": "https://localhost:8080/"
        },
        "id": "EtUmXzo7GUWO",
        "outputId": "547199dc-d897-46ab-8595-07fce0c58061"
      },
      "source": [
        "G.number_of_edges()"
      ],
      "execution_count": 19,
      "outputs": [
        {
          "output_type": "execute_result",
          "data": {
            "text/plain": [
              "9920"
            ]
          },
          "metadata": {
            "tags": []
          },
          "execution_count": 19
        }
      ]
    },
    {
      "cell_type": "code",
      "metadata": {
        "colab": {
          "base_uri": "https://localhost:8080/"
        },
        "id": "eVGekXZVrVE4",
        "outputId": "60edbdc9-e681-4f75-911d-a44123759039"
      },
      "source": [
        "BrGraph.number_of_nodes()"
      ],
      "execution_count": 20,
      "outputs": [
        {
          "output_type": "execute_result",
          "data": {
            "text/plain": [
              "495"
            ]
          },
          "metadata": {
            "tags": []
          },
          "execution_count": 20
        }
      ]
    },
    {
      "cell_type": "code",
      "metadata": {
        "colab": {
          "base_uri": "https://localhost:8080/"
        },
        "id": "I0kYAWIbraEs",
        "outputId": "96a5bf1c-062e-4704-a876-5c276d0b4a89"
      },
      "source": [
        "BrGraph.number_of_edges()"
      ],
      "execution_count": 21,
      "outputs": [
        {
          "output_type": "execute_result",
          "data": {
            "text/plain": [
              "4594"
            ]
          },
          "metadata": {
            "tags": []
          },
          "execution_count": 21
        }
      ]
    },
    {
      "cell_type": "markdown",
      "metadata": {
        "id": "B17DSyUH_W5R"
      },
      "source": [
        "# EXERCISE 1\n",
        "\n",
        "Is there a direct flight between Goiânia (SBGO) and Viracopos (SBKP)? A direct flight is one with no intermediate stops."
      ]
    },
    {
      "cell_type": "code",
      "metadata": {
        "id": "mwPoJZBEPX4e",
        "colab": {
          "base_uri": "https://localhost:8080/"
        },
        "outputId": "47eda102-bf84-4a87-ac03-7d5c6ea7e750"
      },
      "source": [
        "# put your code here\n",
        "\"SBGO\" in BrGraph.neighbors(\"SBKP\")"
      ],
      "execution_count": 25,
      "outputs": [
        {
          "output_type": "execute_result",
          "data": {
            "text/plain": [
              "True"
            ]
          },
          "metadata": {
            "tags": []
          },
          "execution_count": 25
        }
      ]
    },
    {
      "cell_type": "markdown",
      "metadata": {
        "id": "GpVfRYrS_W5R"
      },
      "source": [
        "# EXERCISE 2\n",
        "\n",
        "If I wanted to fly from Goiânia (SBGO) to Santo Ângelo (SBNM) what would be an itinerary with the fewest number of flights?"
      ]
    },
    {
      "cell_type": "code",
      "metadata": {
        "id": "cD3GBl2vPZ5I"
      },
      "source": [
        "# put your code here\n",
        "sp = nx.shortest_path(BrGraph, \"SBGO\", \"SBNM\")"
      ],
      "execution_count": 34,
      "outputs": []
    },
    {
      "cell_type": "code",
      "metadata": {
        "colab": {
          "base_uri": "https://localhost:8080/",
          "height": 35
        },
        "id": "xhop-oO7ueru",
        "outputId": "c90eb194-57ad-457c-e00b-9c849aef8a67"
      },
      "source": [
        "# Shortest Path\n",
        "\n",
        "\"Origem %s -> Intermédiário %s -> Destino %s\" % tuple(sp)"
      ],
      "execution_count": 35,
      "outputs": [
        {
          "output_type": "execute_result",
          "data": {
            "application/vnd.google.colaboratory.intrinsic+json": {
              "type": "string"
            },
            "text/plain": [
              "'Origem SBGO -> Intermédiário SBGR -> Destino SBNM'"
            ]
          },
          "metadata": {
            "tags": []
          },
          "execution_count": 35
        }
      ]
    },
    {
      "cell_type": "markdown",
      "metadata": {
        "id": "qJLtm7up_W5R"
      },
      "source": [
        "# EXERCISE 3\n",
        "\n",
        "Is it possible to travel from any airport in the US to any other airport in the US, possibly using connecting flights? In other words, does there exist a path in the network between every possible pair of airports?"
      ]
    },
    {
      "cell_type": "code",
      "metadata": {
        "id": "sHnszjGuNoKQ",
        "colab": {
          "base_uri": "https://localhost:8080/"
        },
        "outputId": "ea9688de-0b7c-4e8d-8f77-8cf044297c21"
      },
      "source": [
        "# put your code here\n",
        "nx.is_connected(BrGraph)"
      ],
      "execution_count": 36,
      "outputs": [
        {
          "output_type": "execute_result",
          "data": {
            "text/plain": [
              "False"
            ]
          },
          "metadata": {
            "tags": []
          },
          "execution_count": 36
        }
      ]
    }
  ]
}